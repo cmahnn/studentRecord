{
 "cells": [
  {
   "cell_type": "markdown",
   "id": "600f7d81",
   "metadata": {},
   "source": [
    "### Assignment\n"
   ]
  },
  {
   "cell_type": "code",
   "execution_count": 1,
   "id": "3bf1520d",
   "metadata": {},
   "outputs": [],
   "source": [
    "subject = ['Chem', 'Phy', 'Math']\n",
    "\n",
    "students = ['Joy', 'Agatha', 'Mary', 'Frank', 'Godwin', 'Chizulum', 'Enoc', 'Chinedu', 'Kenneth', 'Lukas']\n",
    "\n",
    "\n",
    "math = [76,56,78,98,88,75,59,80,45,30]\n",
    "\n",
    "phy  = [72,86,70,98,89,79,69,50,85,80]\n",
    "\n",
    "chem  = [75,66,77,45,83,75,59,40,65,90]"
   ]
  },
  {
   "cell_type": "code",
   "execution_count": null,
   "id": "619c3372",
   "metadata": {},
   "outputs": [],
   "source": [
    "# 1. Create a SINGLE dictionary to hold the following information organized by subject"
   ]
  },
  {
   "cell_type": "code",
   "execution_count": 3,
   "id": "803e764f",
   "metadata": {},
   "outputs": [
    {
     "data": {
      "text/plain": [
       "{'Joy': {'Chemistry': 75, 'Physics': 72, 'Mathematics': 76},\n",
       " 'Agatha': {'Chemistry': 66, 'Physics': 86, 'Mathematics': 56},\n",
       " 'Mary': {'Chemistry': 77, 'Physics': 70, 'Mathematics': 78},\n",
       " 'Frank': {'Chemistry': 45, 'Physics': 98, 'Mathematics': 98},\n",
       " 'Godwin': {'Chemistry': 83, 'Physics': 89, 'Mathematics': 88},\n",
       " 'Chizulum': {'Chemistry': 75, 'Physics': 79, 'Mathematics': 75},\n",
       " 'Enoc': {'Chemistry': 59, 'Physics': 69, 'Mathematics': 59},\n",
       " 'Chinedu': {'Chemistry': 40, 'Physics': 50, 'Mathematics': 80},\n",
       " 'Kenneth': {'Chemistry': 65, 'Physics': 85, 'Mathematics': 45},\n",
       " 'Lukas': {'Chemistry': 90, 'Physics': 80, 'Mathematics': 30}}"
      ]
     },
     "execution_count": 3,
     "metadata": {},
     "output_type": "execute_result"
    }
   ],
   "source": [
    "cummRecord = dict()\n",
    "for st,che,ph,mat in zip (students,chem,phy,math):\n",
    "    stuRecord = {}\n",
    "    stuRecord['Chemistry'] = che\n",
    "    stuRecord['Physics'] = ph\n",
    "    stuRecord['Mathematics'] = mat \n",
    "    cummRecord[st] = stuRecord\n",
    "cummRecord\n",
    "    \n",
    "\n"
   ]
  },
  {
   "cell_type": "code",
   "execution_count": 104,
   "id": "b68b4b0a",
   "metadata": {},
   "outputs": [],
   "source": [
    "import pandas as pd"
   ]
  },
  {
   "cell_type": "code",
   "execution_count": 105,
   "id": "6ca218e3",
   "metadata": {},
   "outputs": [],
   "source": [
    "table = pd.DataFrame()"
   ]
  },
  {
   "cell_type": "code",
   "execution_count": 15,
   "id": "6d409ebd",
   "metadata": {},
   "outputs": [
    {
     "data": {
      "text/html": [
       "<div>\n",
       "<style scoped>\n",
       "    .dataframe tbody tr th:only-of-type {\n",
       "        vertical-align: middle;\n",
       "    }\n",
       "\n",
       "    .dataframe tbody tr th {\n",
       "        vertical-align: top;\n",
       "    }\n",
       "\n",
       "    .dataframe thead th {\n",
       "        text-align: right;\n",
       "    }\n",
       "</style>\n",
       "<table border=\"1\" class=\"dataframe\">\n",
       "  <thead>\n",
       "    <tr style=\"text-align: right;\">\n",
       "      <th></th>\n",
       "      <th>Student</th>\n",
       "      <th>chemistry</th>\n",
       "      <th>physics</th>\n",
       "      <th>Mathematics</th>\n",
       "    </tr>\n",
       "  </thead>\n",
       "  <tbody>\n",
       "    <tr>\n",
       "      <th>0</th>\n",
       "      <td>Joy</td>\n",
       "      <td>75</td>\n",
       "      <td>72</td>\n",
       "      <td>76</td>\n",
       "    </tr>\n",
       "    <tr>\n",
       "      <th>1</th>\n",
       "      <td>Agatha</td>\n",
       "      <td>66</td>\n",
       "      <td>86</td>\n",
       "      <td>56</td>\n",
       "    </tr>\n",
       "    <tr>\n",
       "      <th>2</th>\n",
       "      <td>Mary</td>\n",
       "      <td>77</td>\n",
       "      <td>70</td>\n",
       "      <td>78</td>\n",
       "    </tr>\n",
       "    <tr>\n",
       "      <th>3</th>\n",
       "      <td>Frank</td>\n",
       "      <td>45</td>\n",
       "      <td>98</td>\n",
       "      <td>98</td>\n",
       "    </tr>\n",
       "    <tr>\n",
       "      <th>4</th>\n",
       "      <td>Godwin</td>\n",
       "      <td>83</td>\n",
       "      <td>89</td>\n",
       "      <td>88</td>\n",
       "    </tr>\n",
       "    <tr>\n",
       "      <th>5</th>\n",
       "      <td>Chizulum</td>\n",
       "      <td>75</td>\n",
       "      <td>79</td>\n",
       "      <td>75</td>\n",
       "    </tr>\n",
       "    <tr>\n",
       "      <th>6</th>\n",
       "      <td>Enoc</td>\n",
       "      <td>59</td>\n",
       "      <td>69</td>\n",
       "      <td>59</td>\n",
       "    </tr>\n",
       "    <tr>\n",
       "      <th>7</th>\n",
       "      <td>Chinedu</td>\n",
       "      <td>40</td>\n",
       "      <td>50</td>\n",
       "      <td>80</td>\n",
       "    </tr>\n",
       "    <tr>\n",
       "      <th>8</th>\n",
       "      <td>Kenneth</td>\n",
       "      <td>65</td>\n",
       "      <td>85</td>\n",
       "      <td>45</td>\n",
       "    </tr>\n",
       "    <tr>\n",
       "      <th>9</th>\n",
       "      <td>Lukas</td>\n",
       "      <td>90</td>\n",
       "      <td>80</td>\n",
       "      <td>30</td>\n",
       "    </tr>\n",
       "  </tbody>\n",
       "</table>\n",
       "</div>"
      ],
      "text/plain": [
       "    Student  chemistry  physics  Mathematics\n",
       "0       Joy         75       72           76\n",
       "1    Agatha         66       86           56\n",
       "2      Mary         77       70           78\n",
       "3     Frank         45       98           98\n",
       "4    Godwin         83       89           88\n",
       "5  Chizulum         75       79           75\n",
       "6      Enoc         59       69           59\n",
       "7   Chinedu         40       50           80\n",
       "8   Kenneth         65       85           45\n",
       "9     Lukas         90       80           30"
      ]
     },
     "execution_count": 15,
     "metadata": {},
     "output_type": "execute_result"
    }
   ],
   "source": [
    "table['Student'] = students\n",
    "table['chemistry'] = chem\n",
    "table['physics'] = phy\n",
    "table['Mathematics'] = math\n",
    "table"
   ]
  },
  {
   "cell_type": "code",
   "execution_count": 36,
   "id": "cfe78a5d",
   "metadata": {},
   "outputs": [],
   "source": [
    "# 2. Show how to access each student's exam subject scores"
   ]
  },
  {
   "cell_type": "code",
   "execution_count": null,
   "id": "3d2e5ed3",
   "metadata": {},
   "outputs": [],
   "source": [
    "subject = ['Chem', 'Phy', 'Math']\n",
    "\n",
    "students = ['Joy', 'Agatha', 'Mary', 'Frank', 'Godwin', 'Chizulum', 'Enoc', 'Chinedu', 'Kenneth', 'Lukas']\n",
    "\n",
    "\n",
    "math = [76,56,78,98,88,75,59,80,45,30]\n",
    "\n",
    "phy  = [72,86,70,98,89,79,69,50,85,80]\n",
    "\n",
    "chem  = [75,66,77,45,83,75,59,40,65,90]"
   ]
  },
  {
   "cell_type": "code",
   "execution_count": 99,
   "id": "cee4badd",
   "metadata": {},
   "outputs": [],
   "source": [
    "def stuScore(name,num):\n",
    "    scoreT = {}\n",
    "    for st,ma,ph,ch in zip(students,math,phy,chem):\n",
    "        score = {}\n",
    "        score['Math'] = ma\n",
    "        score['Physics'] = ph\n",
    "        score['chemistry'] = ch\n",
    "        scoreT[st] = score\n",
    "    if name in students:\n",
    "        record = scoreT[name]\n",
    "        if num == 'math':\n",
    "            record1 = record['Math']\n",
    "        elif num == 'physics':\n",
    "            record1 = record['Physics']\n",
    "        elif num == 'chemistry':\n",
    "            record1 = record['chemistry']\n",
    "        elif num == 'all':\n",
    "            record1 = record\n",
    "        else:\n",
    "            print('Please type in lower case')\n",
    "    else:\n",
    "        record = print(f'Error {name} not found in data base')\n",
    "    return name, record1  \n",
    "    "
   ]
  },
  {
   "cell_type": "code",
   "execution_count": 102,
   "id": "b7d4c2fc",
   "metadata": {},
   "outputs": [
    {
     "data": {
      "text/plain": [
       "('Mary', {'Math': 78, 'Physics': 70, 'chemistry': 77})"
      ]
     },
     "execution_count": 102,
     "metadata": {},
     "output_type": "execute_result"
    }
   ],
   "source": [
    "stuScore('Mary','all')"
   ]
  },
  {
   "cell_type": "code",
   "execution_count": null,
   "id": "6e22d179",
   "metadata": {},
   "outputs": [],
   "source": []
  }
 ],
 "metadata": {
  "kernelspec": {
   "display_name": "Python 3 (ipykernel)",
   "language": "python",
   "name": "python3"
  },
  "language_info": {
   "codemirror_mode": {
    "name": "ipython",
    "version": 3
   },
   "file_extension": ".py",
   "mimetype": "text/x-python",
   "name": "python",
   "nbconvert_exporter": "python",
   "pygments_lexer": "ipython3",
   "version": "3.9.7"
  }
 },
 "nbformat": 4,
 "nbformat_minor": 5
}
